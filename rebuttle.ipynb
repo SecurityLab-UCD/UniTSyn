{
 "cells": [
  {
   "cell_type": "code",
   "execution_count": 2,
   "metadata": {},
   "outputs": [],
   "source": [
    "import json\n",
    "import matplotlib.pyplot as plt\n",
    "import numpy as np\n",
    "from multiprocessing import Pool\n",
    "import random\n",
    "\n",
    "plt.style.use('_mpl-gallery')"
   ]
  },
  {
   "cell_type": "code",
   "execution_count": 3,
   "metadata": {},
   "outputs": [
    {
     "data": {
      "text/plain": [
       "1218311"
      ]
     },
     "execution_count": 3,
     "metadata": {},
     "output_type": "execute_result"
    }
   ],
   "source": [
    "\n",
    "\n",
    "with open(\"data/source/all.jsonl\", \"r\") as fp:\n",
    "    lines = fp.readlines()\n",
    "   \n",
    "with Pool() as p:\n",
    "    objs = p.map(json.loads, lines)\n",
    "\n",
    "py_objs = list(filter(lambda o: o[\"lang\"] == \"python\", objs)) \n",
    "len(py_objs)"
   ]
  },
  {
   "cell_type": "code",
   "execution_count": 5,
   "metadata": {},
   "outputs": [
    {
     "data": {
      "text/plain": [
       "30"
      ]
     },
     "execution_count": 5,
     "metadata": {},
     "output_type": "execute_result"
    }
   ],
   "source": [
    "random.seed(0)\n",
    "sampled = random.sample(py_objs, 30)\n",
    "len(sampled)"
   ]
  },
  {
   "cell_type": "code",
   "execution_count": 6,
   "metadata": {},
   "outputs": [],
   "source": [
    "for i, s in enumerate(sampled):\n",
    "    with open(f\"samples/pair_{i}.py\", \"w+\") as fp:\n",
    "        fp.write(f\"# sample id {i+1}\\n\")\n",
    "        fp.write(s[\"code\"])\n",
    "        fp.write(\"\\n\")\n",
    "        fp.write(s[\"test\"])"
   ]
  },
  {
   "cell_type": "code",
   "execution_count": null,
   "metadata": {},
   "outputs": [],
   "source": [
    "import ast\n",
    "\n",
    "def get_call_cnt(obj) -> int | None:\n",
    "    class FunctionCallCounter(ast.NodeVisitor):\n",
    "        def __init__(self):\n",
    "            super().__init__()\n",
    "            self.call_count = 0  # Initialize the counter\n",
    "\n",
    "        def visit_Call(self, node):\n",
    "            self.call_count += 1  # Increment the counter for each function call\n",
    "            self.generic_visit(node)  # Continue traversing to find more calls\n",
    "    \n",
    "    try: \n",
    "        tree = ast.parse(obj[\"test\"])\n",
    "    except SyntaxError:\n",
    "        return None\n",
    "    counter = FunctionCallCounter()\n",
    "    counter.visit(tree)\n",
    "    return counter.call_count\n"
   ]
  },
  {
   "cell_type": "code",
   "execution_count": null,
   "metadata": {},
   "outputs": [],
   "source": [
    "with Pool() as p:\n",
    "    cnts = p.map(get_call_cnt, sampled)\n"
   ]
  }
 ],
 "metadata": {
  "kernelspec": {
   "display_name": "Python 3",
   "language": "python",
   "name": "python3"
  },
  "language_info": {
   "codemirror_mode": {
    "name": "ipython",
    "version": 3
   },
   "file_extension": ".py",
   "mimetype": "text/x-python",
   "name": "python",
   "nbconvert_exporter": "python",
   "pygments_lexer": "ipython3",
   "version": "3.10.12"
  }
 },
 "nbformat": 4,
 "nbformat_minor": 2
}
